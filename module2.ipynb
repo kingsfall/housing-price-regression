{
 "cells": [
  {
   "cell_type": "code",
   "execution_count": 175,
   "metadata": {},
   "outputs": [],
   "source": [
    "import sqlite3\n",
    "import pandas as pd\n",
    "import numpy as np\n",
    "from scipy.stats import skew\n",
    "import pgeocode"
   ]
  },
  {
   "cell_type": "code",
   "execution_count": 176,
   "metadata": {},
   "outputs": [],
   "source": [
    "from sklearn.model_selection import cross_val_score, train_test_split\n",
    "from sklearn.preprocessing import StandardScaler"
   ]
  },
  {
   "cell_type": "code",
   "execution_count": 177,
   "metadata": {},
   "outputs": [],
   "source": [
    "db = sqlite3.connect('home_sales.db')\n",
    "df = pd.read_sql_query('SELECT * FROM sales;',db)"
   ]
  },
  {
   "cell_type": "code",
   "execution_count": 178,
   "metadata": {},
   "outputs": [],
   "source": [
    "# dropping null values\n",
    "df = df.dropna()"
   ]
  },
  {
   "cell_type": "code",
   "execution_count": 179,
   "metadata": {},
   "outputs": [],
   "source": [
    "# feature engineering place_name from zipcode\n",
    "nomi = pgeocode.Nominatim('us')\n",
    "for index, row in df.iterrows():\n",
    "    locObj = nomi.query_postal_code(int(row['zipcode']))\n",
    "    df.loc[index,'place_name'] = locObj.place_name\n",
    "df = df.replace({'place_name': {'Auburn':1,'Federal Way':2,'Kent':3,'Enumclaw':4,'Maple Valley':5,'Renton':6,'Black Diamond':7,'North Bend':8,'Duvall':9,'Carnation':10,'Kenmore':11,'Seattle':12,'Fall City':13,'Bothell':14,'Vashon':15,'Snoqualmie':16,'Kirkland':17,'Issaquah':18,'Woodinville':19,'Redmond':20,'Sammamish':21,'Bellevue':22,'Mercer Island':23,'Medina':24}\n",
    "})"
   ]
  },
  {
   "cell_type": "code",
   "execution_count": 180,
   "metadata": {},
   "outputs": [],
   "source": [
    "# relabel condition feature\n",
    "df.loc[df.condition == 'TERRIBLE'] = df.loc[df.condition == 'TERRIBLE'].replace(\"TERRIBLE\",\"0\")\n",
    "df.loc[df.condition == 'terrible'] = df.loc[df.condition == 'terrible'].replace(\"terrible\",\"0\")\n",
    "df.loc[df.condition == 'POOR'] = df.loc[df.condition == 'POOR'].replace(\"POOR\",\"1\")\n",
    "df.loc[df.condition == 'poor'] = df.loc[df.condition == 'poor'].replace(\"poor\",\"1\")\n",
    "df.loc[df.condition == 'FAIR'] = df.loc[df.condition == 'FAIR'].replace(\"FAIR\",\"2\")\n",
    "df.loc[df.condition == 'fair'] = df.loc[df.condition == 'fair'].replace(\"fair\",\"2\")\n",
    "df.loc[df.condition == 'GOOD'] = df.loc[df.condition == 'GOOD'].replace(\"GOOD\",\"3\")\n",
    "df.loc[df.condition == 'good'] = df.loc[df.condition == 'good'].replace(\"good\",\"3\")\n",
    "df.loc[df.condition == 'EXCELLENT'] = df.loc[df.condition == 'EXCELLENT'].replace(\"EXCELLENT\",\"4\")\n",
    "df.loc[df.condition == 'excellent'] = df.loc[df.condition == 'excellent'].replace(\"excellent\",\"4\")"
   ]
  },
  {
   "cell_type": "code",
   "execution_count": 181,
   "metadata": {},
   "outputs": [],
   "source": [
    "# convert object to int\n",
    "df['condition'] = df['condition'].astype(str).astype(int)"
   ]
  },
  {
   "cell_type": "code",
   "execution_count": 182,
   "metadata": {},
   "outputs": [],
   "source": [
    "# dropping unnecessary features\n",
    "df = df[['price', 'bedrooms', 'bathrooms', 'floors', 'waterfront', 'view', 'condition','review_score', 'basement_size', 'built', 'renovation','living_room_size', 'lot_size','place_name','latitude']]"
   ]
  },
  {
   "cell_type": "code",
   "execution_count": 183,
   "metadata": {},
   "outputs": [],
   "source": [
    "df_hold = df"
   ]
  },
  {
   "cell_type": "code",
   "execution_count": 184,
   "metadata": {},
   "outputs": [],
   "source": [
    "# Separate dataset into X and y\n",
    "y_bin = df['price']\n",
    "df = df.drop(columns=['price'])"
   ]
  },
  {
   "cell_type": "code",
   "execution_count": 185,
   "metadata": {},
   "outputs": [
    {
     "name": "stdout",
     "output_type": "stream",
     "text": [
      "bedrooms             0.504491\n",
      "bathrooms            0.523822\n",
      "floors               0.616411\n",
      "waterfront          10.922177\n",
      "view                 3.389588\n",
      "condition            1.023148\n",
      "review_score         0.784347\n",
      "basement_size        1.609070\n",
      "renovation           4.483678\n",
      "living_room_size     1.107078\n",
      "lot_size             9.648442\n",
      "dtype: float64 skewed numerical features to log transform\n"
     ]
    }
   ],
   "source": [
    "# Log transform on X dataset for features with skewness >0.5\n",
    "skewness = df.apply(lambda x: skew(x))\n",
    "skewness = skewness[abs(skewness) > 0.5]\n",
    "print(str(skewness) + \" skewed numerical features to log transform\")\n",
    "skewed_features = skewness.index\n",
    "df[skewed_features] = np.log1p(df[skewed_features])"
   ]
  },
  {
   "cell_type": "code",
   "execution_count": 186,
   "metadata": {},
   "outputs": [],
   "source": [
    "# create variable bins\n",
    "bins = pd.IntervalIndex.from_tuples([(0, 3.230000e+05), (3.230001e+05, 4.520000e+05), (4.520001e+05, 6.500000e+05),(6.500001e+05,8.00000e+06)])\n",
    "y_bint = pd.cut(y_bin, bins).cat.codes.to_numpy()"
   ]
  },
  {
   "cell_type": "code",
   "execution_count": 187,
   "metadata": {},
   "outputs": [],
   "source": [
    "# Partition the dataset in train + test sets\n",
    "X_train, X_test, y_train, y_test = train_test_split(df, y_bint, test_size = 0.3, random_state = 0)"
   ]
  },
  {
   "cell_type": "code",
   "execution_count": 188,
   "metadata": {},
   "outputs": [],
   "source": [
    "# Transform features by standardization\n",
    "# stdSc = StandardScaler()\n",
    "# X_train = np.absolute(stdSc.fit_transform(X_train))\n",
    "# X_test = np.absolute(stdSc.transform(X_test))"
   ]
  },
  {
   "cell_type": "code",
   "execution_count": 189,
   "metadata": {},
   "outputs": [],
   "source": [
    "from sklearn.naive_bayes import GaussianNB\n",
    "gnb = GaussianNB()\n",
    "y_pred = gnb.fit(X_train, y_train).predict(X_test)"
   ]
  },
  {
   "cell_type": "code",
   "execution_count": 190,
   "metadata": {},
   "outputs": [
    {
     "name": "stdout",
     "output_type": "stream",
     "text": [
      "Number of mislabeled points out of a total 5907 points : 2728 accuracy of  0.5381750465549349\n"
     ]
    }
   ],
   "source": [
    "# testing classification model GaussianNB\n",
    "a = X_test.shape[0]\n",
    "b = (y_test != y_pred).sum()\n",
    "c = 1 - b/a\n",
    "print(\"Number of mislabeled points out of a total\",a,\"points :\", b, \"accuracy of \", c)"
   ]
  },
  {
   "cell_type": "code",
   "execution_count": 191,
   "metadata": {},
   "outputs": [],
   "source": [
    "from sklearn.naive_bayes import MultinomialNB\n",
    "mnb = MultinomialNB()\n",
    "y_pred = mnb.fit(X_train, y_train).predict(X_test)"
   ]
  },
  {
   "cell_type": "code",
   "execution_count": 192,
   "metadata": {},
   "outputs": [
    {
     "name": "stdout",
     "output_type": "stream",
     "text": [
      "Number of mislabeled points out of a total 5907 points : 3235 accuracy of  0.4523446758083629\n"
     ]
    }
   ],
   "source": [
    "# testing classification model MultinomialNB\n",
    "a = X_test.shape[0]\n",
    "b = (y_test != y_pred).sum()\n",
    "c = 1 - b/a\n",
    "print(\"Number of mislabeled points out of a total\",a,\"points :\", b, \"accuracy of \", c)"
   ]
  },
  {
   "cell_type": "code",
   "execution_count": 193,
   "metadata": {},
   "outputs": [],
   "source": [
    "from sklearn.svm import SVC\n",
    "svc = SVC(gamma='auto')\n",
    "y_pred = svc.fit(X_train, y_train).predict(X_test)"
   ]
  },
  {
   "cell_type": "code",
   "execution_count": 194,
   "metadata": {},
   "outputs": [
    {
     "name": "stdout",
     "output_type": "stream",
     "text": [
      "Number of mislabeled points out of a total 5907 points : 2403 accuracy of  0.5931945149822244\n"
     ]
    }
   ],
   "source": [
    "# testing classification model SVC\n",
    "a = X_test.shape[0]\n",
    "b = (y_test != y_pred).sum()\n",
    "c = 1 - b/a\n",
    "print(\"Number of mislabeled points out of a total\",a,\"points :\", b, \"accuracy of \", c)"
   ]
  },
  {
   "cell_type": "code",
   "execution_count": 195,
   "metadata": {},
   "outputs": [
    {
     "data": {
      "text/plain": [
       "Text(0.5, 1.0, 'Normalized Confusion Matrix for GaussianNB')"
      ]
     },
     "execution_count": 195,
     "metadata": {},
     "output_type": "execute_result"
    },
    {
     "data": {
      "image/png": "[encoded data removed]",
      "text/plain": [
       "<Figure size 432x288 with 2 Axes>"
      ]
     },
     "metadata": {
      "needs_background": "light"
     },
     "output_type": "display_data"
    }
   ],
   "source": [
    "from sklearn.metrics import plot_confusion_matrix\n",
    "import matplotlib.pyplot as plt\n",
    "disp = plot_confusion_matrix(gnb, X_test, y_test,display_labels=[0,1,2,3],cmap=plt.cm.Blues,normalize=\"true\")\n",
    "title = \"Normalized Confusion Matrix for GaussianNB\"\n",
    "disp.ax_.set_title(title)"
   ]
  },
  {
   "cell_type": "code",
   "execution_count": 196,
   "metadata": {},
   "outputs": [
    {
     "data": {
      "text/plain": [
       "Text(0.5, 1.0, 'Normalized Confusion Matrix for MultinomialNB')"
      ]
     },
     "execution_count": 196,
     "metadata": {},
     "output_type": "execute_result"
    },
    {
     "data": {
      "image/png": "[encoded data removed]",
      "text/plain": [
       "<Figure size 432x288 with 2 Axes>"
      ]
     },
     "metadata": {
      "needs_background": "light"
     },
     "output_type": "display_data"
    }
   ],
   "source": [
    "from sklearn.metrics import plot_confusion_matrix\n",
    "import matplotlib.pyplot as plt\n",
    "disp = plot_confusion_matrix(mnb, X_test, y_test,display_labels=[0,1,2,3],cmap=plt.cm.Blues,normalize=\"true\")\n",
    "title = \"Normalized Confusion Matrix for MultinomialNB\"\n",
    "disp.ax_.set_title(title)"
   ]
  },
  {
   "cell_type": "code",
   "execution_count": 197,
   "metadata": {},
   "outputs": [
    {
     "data": {
      "text/plain": [
       "Text(0.5, 1.0, 'Normalized Confusion Matrix for SVC')"
      ]
     },
     "execution_count": 197,
     "metadata": {},
     "output_type": "execute_result"
    },
    {
     "data": {
      "image/png": "[encoded data removed]",
      "text/plain": [
       "<Figure size 432x288 with 2 Axes>"
      ]
     },
     "metadata": {
      "needs_background": "light"
     },
     "output_type": "display_data"
    }
   ],
   "source": [
    "from sklearn.metrics import plot_confusion_matrix\n",
    "import matplotlib.pyplot as plt\n",
    "disp = plot_confusion_matrix(svc, X_test, y_test,display_labels=[0,1,2,3],cmap=plt.cm.Blues,normalize=\"true\")\n",
    "title = \"Normalized Confusion Matrix for SVC\"\n",
    "disp.ax_.set_title(title)"
   ]
  },
  {
   "cell_type": "code",
   "execution_count": null,
   "metadata": {},
   "outputs": [],
   "source": []
  }
 ],
 "metadata": {
  "kernelspec": {
   "display_name": "Python 3",
   "language": "python",
   "name": "python3"
  },
  "language_info": {
   "codemirror_mode": {
    "name": "ipython",
    "version": 3
   },
   "file_extension": ".py",
   "mimetype": "text/x-python",
   "name": "python",
   "nbconvert_exporter": "python",
   "pygments_lexer": "ipython3",
   "version": "3.8.5"
  }
 },
 "nbformat": 4,
 "nbformat_minor": 4
}
